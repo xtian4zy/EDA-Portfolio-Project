{
 "cells": [
  {
   "cell_type": "markdown",
   "metadata": {},
   "source": [
    "# Real-world Data Analysis Project\n",
    "\n",
    "This lab presents a real-world data analysis project. Through this project, you will gain hands-on understanding of how the different steps of the [Data Analysis Process](https://twitter.com/xtian4zy) can be implemented in real world scenarios. "
   ]
  },
  {
   "cell_type": "markdown",
   "metadata": {},
   "source": [
    "## Problem Statement\n",
    "\n",
    "Mr. Oliver the new Executive manager of ABC Group of Companies is meeting with key management staffs tomorrow and has asked you (as the organization's Data Analyst) to provide information about the organization for him. "
   ]
  },
  {
   "cell_type": "markdown",
   "metadata": {},
   "source": [
    "When the secretary communicated the assignment to you, you requested that Mr. Oliver kindly identify what specific information he may be interested in."
   ]
  },
  {
   "cell_type": "markdown",
   "metadata": {},
   "source": [
    "### Deliverables:\n",
    "\n",
    "Mr. Oliver has reversed back to you and wants you to provide the following:\n",
    "\n",
    "* The details of the oldest employee.\n",
    "* The highest and lowest salary earned in the organization.\n",
    "* The group of workers earning more on average based on sex.\n",
    "* The staff earning the highest salary and from what department?\n",
    "* The sex distribution of employees.\n",
    "* The oldest senior management staff.\n",
    "* The highest earning senior management staff.\n",
    "* The highest bonus amount recieved by an employee.\n",
    "* The department whose staff earns the highest culmulative bonus.\n",
    "* The average salary based on cadre.\n",
    "* The average salary across department.\n"
   ]
  },
  {
   "cell_type": "markdown",
   "metadata": {},
   "source": [
    "### Collect Data\n",
    "\n",
    "It's time to get on to work. The first thing is to get hold of the data required to solve the given task. This time we don't need to seek for fresh data as there exist an employee dataset domiciled with the Personel department.\n",
    "\n",
    "Assume, that you have been given a copy of the dataset and now ready to explore."
   ]
  },
  {
   "cell_type": "markdown",
   "metadata": {},
   "source": [
    "#### Dataset:\n",
    "\n",
    "The dataset used for this project is the employees dataset from kaggle.com"
   ]
  },
  {
   "cell_type": "markdown",
   "metadata": {},
   "source": [
    "### Process Data\n",
    "\n",
    "We will now begin our data processing to be sure we have quality data that will guarantee relaible conclusions."
   ]
  },
  {
   "cell_type": "markdown",
   "metadata": {},
   "source": [
    "### Load data set"
   ]
  },
  {
   "cell_type": "code",
   "execution_count": 1,
   "metadata": {},
   "outputs": [],
   "source": [
    "import pandas as pd\n",
    "import numpy as np\n",
    "import matplotlib.pyplot as plt\n",
    "import seaborn as sns"
   ]
  },
  {
   "cell_type": "code",
   "execution_count": 4,
   "metadata": {},
   "outputs": [
    {
     "data": {
      "text/html": [
       "<div>\n",
       "<style scoped>\n",
       "    .dataframe tbody tr th:only-of-type {\n",
       "        vertical-align: middle;\n",
       "    }\n",
       "\n",
       "    .dataframe tbody tr th {\n",
       "        vertical-align: top;\n",
       "    }\n",
       "\n",
       "    .dataframe thead th {\n",
       "        text-align: right;\n",
       "    }\n",
       "</style>\n",
       "<table border=\"1\" class=\"dataframe\">\n",
       "  <thead>\n",
       "    <tr style=\"text-align: right;\">\n",
       "      <th></th>\n",
       "      <th>First Name</th>\n",
       "      <th>Gender</th>\n",
       "      <th>Start Date</th>\n",
       "      <th>Last Login Time</th>\n",
       "      <th>Salary</th>\n",
       "      <th>Bonus %</th>\n",
       "      <th>Senior Management</th>\n",
       "      <th>Team</th>\n",
       "    </tr>\n",
       "  </thead>\n",
       "  <tbody>\n",
       "    <tr>\n",
       "      <th>0</th>\n",
       "      <td>Douglas</td>\n",
       "      <td>Male</td>\n",
       "      <td>8/6/1993</td>\n",
       "      <td>12:42 PM</td>\n",
       "      <td>97308</td>\n",
       "      <td>6.945</td>\n",
       "      <td>True</td>\n",
       "      <td>Marketing</td>\n",
       "    </tr>\n",
       "    <tr>\n",
       "      <th>1</th>\n",
       "      <td>Thomas</td>\n",
       "      <td>Male</td>\n",
       "      <td>3/31/1996</td>\n",
       "      <td>6:53 AM</td>\n",
       "      <td>61933</td>\n",
       "      <td>4.170</td>\n",
       "      <td>True</td>\n",
       "      <td>NaN</td>\n",
       "    </tr>\n",
       "    <tr>\n",
       "      <th>2</th>\n",
       "      <td>Maria</td>\n",
       "      <td>Female</td>\n",
       "      <td>4/23/1993</td>\n",
       "      <td>11:17 AM</td>\n",
       "      <td>130590</td>\n",
       "      <td>11.858</td>\n",
       "      <td>False</td>\n",
       "      <td>Finance</td>\n",
       "    </tr>\n",
       "    <tr>\n",
       "      <th>3</th>\n",
       "      <td>Jerry</td>\n",
       "      <td>Male</td>\n",
       "      <td>3/4/2005</td>\n",
       "      <td>1:00 PM</td>\n",
       "      <td>138705</td>\n",
       "      <td>9.340</td>\n",
       "      <td>True</td>\n",
       "      <td>Finance</td>\n",
       "    </tr>\n",
       "    <tr>\n",
       "      <th>4</th>\n",
       "      <td>Larry</td>\n",
       "      <td>Male</td>\n",
       "      <td>1/24/1998</td>\n",
       "      <td>4:47 PM</td>\n",
       "      <td>101004</td>\n",
       "      <td>1.389</td>\n",
       "      <td>True</td>\n",
       "      <td>Client Services</td>\n",
       "    </tr>\n",
       "  </tbody>\n",
       "</table>\n",
       "</div>"
      ],
      "text/plain": [
       "  First Name  Gender Start Date Last Login Time  Salary  Bonus %  \\\n",
       "0    Douglas    Male   8/6/1993        12:42 PM   97308    6.945   \n",
       "1     Thomas    Male  3/31/1996         6:53 AM   61933    4.170   \n",
       "2      Maria  Female  4/23/1993        11:17 AM  130590   11.858   \n",
       "3      Jerry    Male   3/4/2005         1:00 PM  138705    9.340   \n",
       "4      Larry    Male  1/24/1998         4:47 PM  101004    1.389   \n",
       "\n",
       "  Senior Management             Team  \n",
       "0              True        Marketing  \n",
       "1              True              NaN  \n",
       "2             False          Finance  \n",
       "3              True          Finance  \n",
       "4              True  Client Services  "
      ]
     },
     "execution_count": 4,
     "metadata": {},
     "output_type": "execute_result"
    }
   ],
   "source": [
    "df = pd.read_csv(employeesdata.csv\")\n",
    "df.head()"
   ]
  },
  {
   "cell_type": "code",
   "execution_count": 8,
   "metadata": {
    "scrolled": true
   },
   "outputs": [
    {
     "data": {
      "text/html": [
       "<div>\n",
       "<style scoped>\n",
       "    .dataframe tbody tr th:only-of-type {\n",
       "        vertical-align: middle;\n",
       "    }\n",
       "\n",
       "    .dataframe tbody tr th {\n",
       "        vertical-align: top;\n",
       "    }\n",
       "\n",
       "    .dataframe thead th {\n",
       "        text-align: right;\n",
       "    }\n",
       "</style>\n",
       "<table border=\"1\" class=\"dataframe\">\n",
       "  <thead>\n",
       "    <tr style=\"text-align: right;\">\n",
       "      <th></th>\n",
       "      <th>First Name</th>\n",
       "      <th>Gender</th>\n",
       "      <th>Start Date</th>\n",
       "      <th>Last Login Time</th>\n",
       "      <th>Salary</th>\n",
       "      <th>Bonus %</th>\n",
       "      <th>Senior Management</th>\n",
       "      <th>Team</th>\n",
       "    </tr>\n",
       "  </thead>\n",
       "  <tbody>\n",
       "    <tr>\n",
       "      <th>995</th>\n",
       "      <td>Henry</td>\n",
       "      <td>NaN</td>\n",
       "      <td>11/23/2014</td>\n",
       "      <td>6:09 AM</td>\n",
       "      <td>132483</td>\n",
       "      <td>16.655</td>\n",
       "      <td>False</td>\n",
       "      <td>Distribution</td>\n",
       "    </tr>\n",
       "    <tr>\n",
       "      <th>996</th>\n",
       "      <td>Phillip</td>\n",
       "      <td>Male</td>\n",
       "      <td>1/31/1984</td>\n",
       "      <td>6:30 AM</td>\n",
       "      <td>42392</td>\n",
       "      <td>19.675</td>\n",
       "      <td>False</td>\n",
       "      <td>Finance</td>\n",
       "    </tr>\n",
       "    <tr>\n",
       "      <th>997</th>\n",
       "      <td>Russell</td>\n",
       "      <td>Male</td>\n",
       "      <td>5/20/2013</td>\n",
       "      <td>12:39 PM</td>\n",
       "      <td>96914</td>\n",
       "      <td>1.421</td>\n",
       "      <td>False</td>\n",
       "      <td>Product</td>\n",
       "    </tr>\n",
       "    <tr>\n",
       "      <th>998</th>\n",
       "      <td>Larry</td>\n",
       "      <td>Male</td>\n",
       "      <td>4/20/2013</td>\n",
       "      <td>4:45 PM</td>\n",
       "      <td>60500</td>\n",
       "      <td>11.985</td>\n",
       "      <td>False</td>\n",
       "      <td>Business Development</td>\n",
       "    </tr>\n",
       "    <tr>\n",
       "      <th>999</th>\n",
       "      <td>Albert</td>\n",
       "      <td>Male</td>\n",
       "      <td>5/15/2012</td>\n",
       "      <td>6:24 PM</td>\n",
       "      <td>129949</td>\n",
       "      <td>10.169</td>\n",
       "      <td>True</td>\n",
       "      <td>Sales</td>\n",
       "    </tr>\n",
       "  </tbody>\n",
       "</table>\n",
       "</div>"
      ],
      "text/plain": [
       "    First Name Gender  Start Date Last Login Time  Salary  Bonus %  \\\n",
       "995      Henry    NaN  11/23/2014         6:09 AM  132483   16.655   \n",
       "996    Phillip   Male   1/31/1984         6:30 AM   42392   19.675   \n",
       "997    Russell   Male   5/20/2013        12:39 PM   96914    1.421   \n",
       "998      Larry   Male   4/20/2013         4:45 PM   60500   11.985   \n",
       "999     Albert   Male   5/15/2012         6:24 PM  129949   10.169   \n",
       "\n",
       "    Senior Management                  Team  \n",
       "995             False          Distribution  \n",
       "996             False               Finance  \n",
       "997             False               Product  \n",
       "998             False  Business Development  \n",
       "999              True                 Sales  "
      ]
     },
     "execution_count": 8,
     "metadata": {},
     "output_type": "execute_result"
    }
   ],
   "source": [
    "df.tail()"
   ]
  },
  {
   "cell_type": "markdown",
   "metadata": {},
   "source": [
    "#### Observations:\n",
    "\n",
    "From the above preview, it is evident that there are missing values in the dataset, the 'Start Date' column appears to be in a wrong format."
   ]
  },
  {
   "cell_type": "markdown",
   "metadata": {},
   "source": [
    "#### What is the dimension of our dataset?"
   ]
  },
  {
   "cell_type": "code",
   "execution_count": 14,
   "metadata": {},
   "outputs": [
    {
     "data": {
      "text/plain": [
       "(1000, 8)"
      ]
     },
     "execution_count": 14,
     "metadata": {},
     "output_type": "execute_result"
    }
   ],
   "source": [
    "df.shape"
   ]
  },
  {
   "cell_type": "markdown",
   "metadata": {},
   "source": [
    "#### Let's check what the data types are for our data set."
   ]
  },
  {
   "cell_type": "code",
   "execution_count": 10,
   "metadata": {
    "scrolled": true
   },
   "outputs": [
    {
     "data": {
      "text/plain": [
       "First Name            object\n",
       "Gender                object\n",
       "Start Date            object\n",
       "Last Login Time       object\n",
       "Salary                 int64\n",
       "Bonus %              float64\n",
       "Senior Management     object\n",
       "Team                  object\n",
       "dtype: object"
      ]
     },
     "execution_count": 10,
     "metadata": {},
     "output_type": "execute_result"
    }
   ],
   "source": [
    "df.dtypes"
   ]
  },
  {
   "cell_type": "markdown",
   "metadata": {},
   "source": [
    "#### Are there missing values?\n",
    "\n",
    "What a time to find out if our employee records are up-to-date and each staff information stored fully. We'll first check to see if any record is missing from the employees dataset."
   ]
  },
  {
   "cell_type": "code",
   "execution_count": 13,
   "metadata": {},
   "outputs": [
    {
     "data": {
      "text/plain": [
       "True"
      ]
     },
     "execution_count": 13,
     "metadata": {},
     "output_type": "execute_result"
    }
   ],
   "source": [
    "df.isna().values.any()"
   ]
  },
  {
   "cell_type": "markdown",
   "metadata": {},
   "source": [
    "We can see that some information regarding the companys employee appear to be missing. Let's see the composition of missing values across attributes."
   ]
  },
  {
   "cell_type": "code",
   "execution_count": 12,
   "metadata": {
    "scrolled": true
   },
   "outputs": [
    {
     "data": {
      "text/plain": [
       "First Name            67\n",
       "Gender               145\n",
       "Start Date             0\n",
       "Last Login Time        0\n",
       "Salary                 0\n",
       "Bonus %                0\n",
       "Senior Management     67\n",
       "Team                  43\n",
       "dtype: int64"
      ]
     },
     "execution_count": 12,
     "metadata": {},
     "output_type": "execute_result"
    }
   ],
   "source": [
    "df.isna().sum()"
   ]
  },
  {
   "cell_type": "code",
   "execution_count": 16,
   "metadata": {},
   "outputs": [
    {
     "name": "stdout",
     "output_type": "stream",
     "text": [
      "The total missing record is  322\n"
     ]
    }
   ],
   "source": [
    "print('The total missing record is ',df.isna().sum().sum())"
   ]
  },
  {
   "cell_type": "markdown",
   "metadata": {},
   "source": [
    "### Observations\n",
    "\n",
    "From the above result, we can see that 322 employee records are missing and because of how important these record are to the final outcome of the analysis we'll hhave to communicate it to Mr. Oliver."
   ]
  },
  {
   "cell_type": "markdown",
   "metadata": {},
   "source": [
    "Mr. Oliver has responed to your observation and noted that due to time constraint it will be impossible to retrieve the information from staff. As such, he has instructed that you proceed as follows:\n",
    "* input 'Unknown' for any missing value and treat such as a class of its own along with others. "
   ]
  },
  {
   "cell_type": "markdown",
   "metadata": {},
   "source": [
    "### Handling missing values"
   ]
  },
  {
   "cell_type": "code",
   "execution_count": 4,
   "metadata": {},
   "outputs": [],
   "source": [
    "df.fillna('Unknown', inplace = True)"
   ]
  },
  {
   "cell_type": "markdown",
   "metadata": {},
   "source": [
    "Let's ccheck to see if we still have any missing value"
   ]
  },
  {
   "cell_type": "code",
   "execution_count": 5,
   "metadata": {},
   "outputs": [
    {
     "data": {
      "text/plain": [
       "False"
      ]
     },
     "execution_count": 5,
     "metadata": {},
     "output_type": "execute_result"
    }
   ],
   "source": [
    "df.isna().values.any()"
   ]
  },
  {
   "cell_type": "markdown",
   "metadata": {},
   "source": [
    "We look good to go."
   ]
  },
  {
   "cell_type": "markdown",
   "metadata": {},
   "source": [
    "### Analyze Data"
   ]
  },
  {
   "cell_type": "markdown",
   "metadata": {},
   "source": [
    "#### Deliverable 1: The details of the oldest employees.\n",
    "\n",
    "To get this information, we will need to know how long each employee has worked for. To get this we need to find the length of years an employee has worked till date. "
   ]
  },
  {
   "cell_type": "code",
   "execution_count": 6,
   "metadata": {},
   "outputs": [
    {
     "data": {
      "text/html": [
       "<div>\n",
       "<style scoped>\n",
       "    .dataframe tbody tr th:only-of-type {\n",
       "        vertical-align: middle;\n",
       "    }\n",
       "\n",
       "    .dataframe tbody tr th {\n",
       "        vertical-align: top;\n",
       "    }\n",
       "\n",
       "    .dataframe thead th {\n",
       "        text-align: right;\n",
       "    }\n",
       "</style>\n",
       "<table border=\"1\" class=\"dataframe\">\n",
       "  <thead>\n",
       "    <tr style=\"text-align: right;\">\n",
       "      <th></th>\n",
       "      <th>First Name</th>\n",
       "      <th>Gender</th>\n",
       "      <th>Start Date</th>\n",
       "      <th>Last Login Time</th>\n",
       "      <th>Salary</th>\n",
       "      <th>Bonus %</th>\n",
       "      <th>Senior Management</th>\n",
       "      <th>Team</th>\n",
       "      <th>Service_Length</th>\n",
       "    </tr>\n",
       "  </thead>\n",
       "  <tbody>\n",
       "    <tr>\n",
       "      <th>0</th>\n",
       "      <td>Douglas</td>\n",
       "      <td>Male</td>\n",
       "      <td>8/6/1993</td>\n",
       "      <td>12:42 PM</td>\n",
       "      <td>97308</td>\n",
       "      <td>6.945</td>\n",
       "      <td>True</td>\n",
       "      <td>Marketing</td>\n",
       "      <td>29</td>\n",
       "    </tr>\n",
       "    <tr>\n",
       "      <th>1</th>\n",
       "      <td>Thomas</td>\n",
       "      <td>Male</td>\n",
       "      <td>3/31/1996</td>\n",
       "      <td>6:53 AM</td>\n",
       "      <td>61933</td>\n",
       "      <td>4.170</td>\n",
       "      <td>True</td>\n",
       "      <td>Unknown</td>\n",
       "      <td>26</td>\n",
       "    </tr>\n",
       "    <tr>\n",
       "      <th>2</th>\n",
       "      <td>Maria</td>\n",
       "      <td>Female</td>\n",
       "      <td>4/23/1993</td>\n",
       "      <td>11:17 AM</td>\n",
       "      <td>130590</td>\n",
       "      <td>11.858</td>\n",
       "      <td>False</td>\n",
       "      <td>Finance</td>\n",
       "      <td>29</td>\n",
       "    </tr>\n",
       "    <tr>\n",
       "      <th>3</th>\n",
       "      <td>Jerry</td>\n",
       "      <td>Male</td>\n",
       "      <td>3/4/2005</td>\n",
       "      <td>1:00 PM</td>\n",
       "      <td>138705</td>\n",
       "      <td>9.340</td>\n",
       "      <td>True</td>\n",
       "      <td>Finance</td>\n",
       "      <td>17</td>\n",
       "    </tr>\n",
       "    <tr>\n",
       "      <th>4</th>\n",
       "      <td>Larry</td>\n",
       "      <td>Male</td>\n",
       "      <td>1/24/1998</td>\n",
       "      <td>4:47 PM</td>\n",
       "      <td>101004</td>\n",
       "      <td>1.389</td>\n",
       "      <td>True</td>\n",
       "      <td>Client Services</td>\n",
       "      <td>24</td>\n",
       "    </tr>\n",
       "  </tbody>\n",
       "</table>\n",
       "</div>"
      ],
      "text/plain": [
       "  First Name  Gender Start Date Last Login Time  Salary  Bonus %  \\\n",
       "0    Douglas    Male   8/6/1993        12:42 PM   97308    6.945   \n",
       "1     Thomas    Male  3/31/1996         6:53 AM   61933    4.170   \n",
       "2      Maria  Female  4/23/1993        11:17 AM  130590   11.858   \n",
       "3      Jerry    Male   3/4/2005         1:00 PM  138705    9.340   \n",
       "4      Larry    Male  1/24/1998         4:47 PM  101004    1.389   \n",
       "\n",
       "  Senior Management             Team  Service_Length  \n",
       "0              True        Marketing              29  \n",
       "1              True          Unknown              26  \n",
       "2             False          Finance              29  \n",
       "3              True          Finance              17  \n",
       "4              True  Client Services              24  "
      ]
     },
     "execution_count": 6,
     "metadata": {},
     "output_type": "execute_result"
    }
   ],
   "source": [
    "# This function calculates how long each employee has work for.\n",
    "from datetime import datetime, date\n",
    "def length(work):\n",
    "    work = datetime.strptime(work, \"%m/%d/%Y\").date()\n",
    "    today = date.today()\n",
    "    return today.year - work.year - ((today.month, today.day) < (work.month, work.day))\n",
    "  \n",
    "df['Service_Length'] = df['Start Date'].apply(length)\n",
    "df.head()"
   ]
  },
  {
   "cell_type": "markdown",
   "metadata": {},
   "source": [
    "Now we have a new column holding how many years each employee has worked for. Let's now get the the details of the oldest employee baseed on the highest service length."
   ]
  },
  {
   "cell_type": "markdown",
   "metadata": {},
   "source": [
    "What is the longest number of years someone has worked?"
   ]
  },
  {
   "cell_type": "code",
   "execution_count": 7,
   "metadata": {
    "scrolled": true
   },
   "outputs": [
    {
     "data": {
      "text/plain": [
       "42"
      ]
     },
     "execution_count": 7,
     "metadata": {},
     "output_type": "execute_result"
    }
   ],
   "source": [
    "df.Service_Length.max()"
   ]
  },
  {
   "cell_type": "code",
   "execution_count": 8,
   "metadata": {},
   "outputs": [
    {
     "data": {
      "text/html": [
       "<div>\n",
       "<style scoped>\n",
       "    .dataframe tbody tr th:only-of-type {\n",
       "        vertical-align: middle;\n",
       "    }\n",
       "\n",
       "    .dataframe tbody tr th {\n",
       "        vertical-align: top;\n",
       "    }\n",
       "\n",
       "    .dataframe thead th {\n",
       "        text-align: right;\n",
       "    }\n",
       "</style>\n",
       "<table border=\"1\" class=\"dataframe\">\n",
       "  <thead>\n",
       "    <tr style=\"text-align: right;\">\n",
       "      <th></th>\n",
       "      <th>First Name</th>\n",
       "      <th>Gender</th>\n",
       "      <th>Team</th>\n",
       "      <th>Salary</th>\n",
       "      <th>Senior Management</th>\n",
       "      <th>Bonus %</th>\n",
       "      <th>Start Date</th>\n",
       "      <th>Service_Length</th>\n",
       "    </tr>\n",
       "  </thead>\n",
       "  <tbody>\n",
       "    <tr>\n",
       "      <th>954</th>\n",
       "      <td>Joe</td>\n",
       "      <td>Male</td>\n",
       "      <td>Finance</td>\n",
       "      <td>119667</td>\n",
       "      <td>True</td>\n",
       "      <td>1.148</td>\n",
       "      <td>1/19/1980</td>\n",
       "      <td>42</td>\n",
       "    </tr>\n",
       "    <tr>\n",
       "      <th>49</th>\n",
       "      <td>Chris</td>\n",
       "      <td>Unknown</td>\n",
       "      <td>Sales</td>\n",
       "      <td>113590</td>\n",
       "      <td>False</td>\n",
       "      <td>3.055</td>\n",
       "      <td>1/24/1980</td>\n",
       "      <td>42</td>\n",
       "    </tr>\n",
       "    <tr>\n",
       "      <th>881</th>\n",
       "      <td>Ruby</td>\n",
       "      <td>Female</td>\n",
       "      <td>Marketing</td>\n",
       "      <td>142868</td>\n",
       "      <td>False</td>\n",
       "      <td>6.318</td>\n",
       "      <td>1/28/1980</td>\n",
       "      <td>42</td>\n",
       "    </tr>\n",
       "    <tr>\n",
       "      <th>272</th>\n",
       "      <td>Fred</td>\n",
       "      <td>Male</td>\n",
       "      <td>Product</td>\n",
       "      <td>74129</td>\n",
       "      <td>False</td>\n",
       "      <td>18.225</td>\n",
       "      <td>2/20/1980</td>\n",
       "      <td>42</td>\n",
       "    </tr>\n",
       "    <tr>\n",
       "      <th>549</th>\n",
       "      <td>Sara</td>\n",
       "      <td>Female</td>\n",
       "      <td>Finance</td>\n",
       "      <td>75484</td>\n",
       "      <td>False</td>\n",
       "      <td>3.186</td>\n",
       "      <td>2/25/1980</td>\n",
       "      <td>42</td>\n",
       "    </tr>\n",
       "    <tr>\n",
       "      <th>82</th>\n",
       "      <td>Steven</td>\n",
       "      <td>Male</td>\n",
       "      <td>Client Services</td>\n",
       "      <td>35095</td>\n",
       "      <td>True</td>\n",
       "      <td>8.379</td>\n",
       "      <td>3/30/1980</td>\n",
       "      <td>42</td>\n",
       "    </tr>\n",
       "    <tr>\n",
       "      <th>808</th>\n",
       "      <td>Julie</td>\n",
       "      <td>Female</td>\n",
       "      <td>Engineering</td>\n",
       "      <td>145357</td>\n",
       "      <td>False</td>\n",
       "      <td>3.459</td>\n",
       "      <td>3/8/1980</td>\n",
       "      <td>42</td>\n",
       "    </tr>\n",
       "    <tr>\n",
       "      <th>567</th>\n",
       "      <td>Unknown</td>\n",
       "      <td>Female</td>\n",
       "      <td>Unknown</td>\n",
       "      <td>48141</td>\n",
       "      <td>Unknown</td>\n",
       "      <td>12.605</td>\n",
       "      <td>4/1/1980</td>\n",
       "      <td>42</td>\n",
       "    </tr>\n",
       "    <tr>\n",
       "      <th>45</th>\n",
       "      <td>Roger</td>\n",
       "      <td>Male</td>\n",
       "      <td>Sales</td>\n",
       "      <td>88010</td>\n",
       "      <td>True</td>\n",
       "      <td>13.886</td>\n",
       "      <td>4/17/1980</td>\n",
       "      <td>42</td>\n",
       "    </tr>\n",
       "    <tr>\n",
       "      <th>505</th>\n",
       "      <td>Unknown</td>\n",
       "      <td>Male</td>\n",
       "      <td>Engineering</td>\n",
       "      <td>71520</td>\n",
       "      <td>Unknown</td>\n",
       "      <td>13.248</td>\n",
       "      <td>4/20/1980</td>\n",
       "      <td>42</td>\n",
       "    </tr>\n",
       "    <tr>\n",
       "      <th>588</th>\n",
       "      <td>Cynthia</td>\n",
       "      <td>Female</td>\n",
       "      <td>Human Resources</td>\n",
       "      <td>78226</td>\n",
       "      <td>False</td>\n",
       "      <td>2.419</td>\n",
       "      <td>5/23/1980</td>\n",
       "      <td>42</td>\n",
       "    </tr>\n",
       "    <tr>\n",
       "      <th>213</th>\n",
       "      <td>Evelyn</td>\n",
       "      <td>Female</td>\n",
       "      <td>Engineering</td>\n",
       "      <td>81673</td>\n",
       "      <td>True</td>\n",
       "      <td>15.364</td>\n",
       "      <td>5/24/1980</td>\n",
       "      <td>42</td>\n",
       "    </tr>\n",
       "    <tr>\n",
       "      <th>743</th>\n",
       "      <td>Steven</td>\n",
       "      <td>Male</td>\n",
       "      <td>Human Resources</td>\n",
       "      <td>100949</td>\n",
       "      <td>True</td>\n",
       "      <td>13.813</td>\n",
       "      <td>5/30/1980</td>\n",
       "      <td>42</td>\n",
       "    </tr>\n",
       "    <tr>\n",
       "      <th>964</th>\n",
       "      <td>Bruce</td>\n",
       "      <td>Male</td>\n",
       "      <td>Sales</td>\n",
       "      <td>35802</td>\n",
       "      <td>True</td>\n",
       "      <td>12.391</td>\n",
       "      <td>5/7/1980</td>\n",
       "      <td>42</td>\n",
       "    </tr>\n",
       "    <tr>\n",
       "      <th>689</th>\n",
       "      <td>Julie</td>\n",
       "      <td>Unknown</td>\n",
       "      <td>Finance</td>\n",
       "      <td>50529</td>\n",
       "      <td>False</td>\n",
       "      <td>17.263</td>\n",
       "      <td>5/8/1980</td>\n",
       "      <td>42</td>\n",
       "    </tr>\n",
       "    <tr>\n",
       "      <th>601</th>\n",
       "      <td>Christine</td>\n",
       "      <td>Unknown</td>\n",
       "      <td>Marketing</td>\n",
       "      <td>50366</td>\n",
       "      <td>True</td>\n",
       "      <td>9.862</td>\n",
       "      <td>6/15/1980</td>\n",
       "      <td>42</td>\n",
       "    </tr>\n",
       "    <tr>\n",
       "      <th>303</th>\n",
       "      <td>Joan</td>\n",
       "      <td>Unknown</td>\n",
       "      <td>Client Services</td>\n",
       "      <td>38712</td>\n",
       "      <td>False</td>\n",
       "      <td>3.657</td>\n",
       "      <td>7/25/1980</td>\n",
       "      <td>42</td>\n",
       "    </tr>\n",
       "    <tr>\n",
       "      <th>569</th>\n",
       "      <td>Ruby</td>\n",
       "      <td>Female</td>\n",
       "      <td>Client Services</td>\n",
       "      <td>101262</td>\n",
       "      <td>False</td>\n",
       "      <td>6.773</td>\n",
       "      <td>7/7/1980</td>\n",
       "      <td>42</td>\n",
       "    </tr>\n",
       "    <tr>\n",
       "      <th>10</th>\n",
       "      <td>Louise</td>\n",
       "      <td>Female</td>\n",
       "      <td>Unknown</td>\n",
       "      <td>63241</td>\n",
       "      <td>True</td>\n",
       "      <td>15.132</td>\n",
       "      <td>8/12/1980</td>\n",
       "      <td>42</td>\n",
       "    </tr>\n",
       "  </tbody>\n",
       "</table>\n",
       "</div>"
      ],
      "text/plain": [
       "    First Name   Gender             Team  Salary Senior Management  Bonus %  \\\n",
       "954        Joe     Male          Finance  119667              True    1.148   \n",
       "49       Chris  Unknown            Sales  113590             False    3.055   \n",
       "881       Ruby   Female        Marketing  142868             False    6.318   \n",
       "272       Fred     Male          Product   74129             False   18.225   \n",
       "549       Sara   Female          Finance   75484             False    3.186   \n",
       "82      Steven     Male  Client Services   35095              True    8.379   \n",
       "808      Julie   Female      Engineering  145357             False    3.459   \n",
       "567    Unknown   Female          Unknown   48141           Unknown   12.605   \n",
       "45       Roger     Male            Sales   88010              True   13.886   \n",
       "505    Unknown     Male      Engineering   71520           Unknown   13.248   \n",
       "588    Cynthia   Female  Human Resources   78226             False    2.419   \n",
       "213     Evelyn   Female      Engineering   81673              True   15.364   \n",
       "743     Steven     Male  Human Resources  100949              True   13.813   \n",
       "964      Bruce     Male            Sales   35802              True   12.391   \n",
       "689      Julie  Unknown          Finance   50529             False   17.263   \n",
       "601  Christine  Unknown        Marketing   50366              True    9.862   \n",
       "303       Joan  Unknown  Client Services   38712             False    3.657   \n",
       "569       Ruby   Female  Client Services  101262             False    6.773   \n",
       "10      Louise   Female          Unknown   63241              True   15.132   \n",
       "\n",
       "    Start Date  Service_Length  \n",
       "954  1/19/1980              42  \n",
       "49   1/24/1980              42  \n",
       "881  1/28/1980              42  \n",
       "272  2/20/1980              42  \n",
       "549  2/25/1980              42  \n",
       "82   3/30/1980              42  \n",
       "808   3/8/1980              42  \n",
       "567   4/1/1980              42  \n",
       "45   4/17/1980              42  \n",
       "505  4/20/1980              42  \n",
       "588  5/23/1980              42  \n",
       "213  5/24/1980              42  \n",
       "743  5/30/1980              42  \n",
       "964   5/7/1980              42  \n",
       "689   5/8/1980              42  \n",
       "601  6/15/1980              42  \n",
       "303  7/25/1980              42  \n",
       "569   7/7/1980              42  \n",
       "10   8/12/1980              42  "
      ]
     },
     "execution_count": 8,
     "metadata": {},
     "output_type": "execute_result"
    }
   ],
   "source": [
    "df3 = df[df['Service_Length']== (df['Service_Length'].max())][['First Name','Gender','Team','Salary','Senior Management',\n",
    "                                                              'Bonus %','Start Date','Service_Length']]\n",
    "df3 = df3.sort_values(by='Start Date')\n",
    "df3"
   ]
  },
  {
   "cell_type": "markdown",
   "metadata": {},
   "source": [
    "#### Deliverable 2: The highest and lowest salary earned in the organization."
   ]
  },
  {
   "cell_type": "code",
   "execution_count": 64,
   "metadata": {
    "scrolled": true
   },
   "outputs": [
    {
     "name": "stdout",
     "output_type": "stream",
     "text": [
      "The highest salary earned in the company is  $ 149908\n"
     ]
    }
   ],
   "source": [
    "print('The highest salary earned in the company is ','$',df['Salary'].max())"
   ]
  },
  {
   "cell_type": "code",
   "execution_count": 65,
   "metadata": {},
   "outputs": [
    {
     "name": "stdout",
     "output_type": "stream",
     "text": [
      "The lowest salary earned in the company is  $ 35013\n"
     ]
    }
   ],
   "source": [
    "print('The lowest salary earned in the company is ','$',df['Salary'].min())"
   ]
  },
  {
   "cell_type": "markdown",
   "metadata": {},
   "source": [
    "#### Deliverable 3: The group of workers earning more on average based on sex."
   ]
  },
  {
   "cell_type": "code",
   "execution_count": 23,
   "metadata": {},
   "outputs": [
    {
     "data": {
      "text/plain": [
       "Gender\n",
       "Female     90023.92\n",
       "Male       91180.67\n",
       "Unknown    91043.21\n",
       "Name: Salary, dtype: float64"
      ]
     },
     "execution_count": 23,
     "metadata": {},
     "output_type": "execute_result"
    }
   ],
   "source": [
    "round(df.groupby(\"Gender\")['Salary'].mean(),2)"
   ]
  },
  {
   "cell_type": "markdown",
   "metadata": {},
   "source": [
    "From the above, we see that the Male sex earn slightly more on average. This information is not reliable until we resolve the case of the Unknown group of workers as the average salary there is close to the other two group and can influence the final outcome."
   ]
  },
  {
   "cell_type": "code",
   "execution_count": 20,
   "metadata": {
    "scrolled": false
   },
   "outputs": [],
   "source": [
    "earning_sex = round(df.groupby(\"Gender\")['Salary'].mean(),2)"
   ]
  },
  {
   "cell_type": "code",
   "execution_count": 21,
   "metadata": {
    "scrolled": true
   },
   "outputs": [
    {
     "data": {
      "text/plain": [
       "<bound method Series.to_frame of Gender\n",
       "Female     90023.92\n",
       "Male       91180.67\n",
       "Unknown    91043.21\n",
       "Name: Salary, dtype: float64>"
      ]
     },
     "execution_count": 21,
     "metadata": {},
     "output_type": "execute_result"
    }
   ],
   "source": [
    "earning_sex.to_frame"
   ]
  },
  {
   "cell_type": "code",
   "execution_count": 22,
   "metadata": {},
   "outputs": [
    {
     "data": {
      "text/html": [
       "<div>\n",
       "<style scoped>\n",
       "    .dataframe tbody tr th:only-of-type {\n",
       "        vertical-align: middle;\n",
       "    }\n",
       "\n",
       "    .dataframe tbody tr th {\n",
       "        vertical-align: top;\n",
       "    }\n",
       "\n",
       "    .dataframe thead th {\n",
       "        text-align: right;\n",
       "    }\n",
       "</style>\n",
       "<table border=\"1\" class=\"dataframe\">\n",
       "  <thead>\n",
       "    <tr style=\"text-align: right;\">\n",
       "      <th></th>\n",
       "      <th>Gender</th>\n",
       "      <th>Salary</th>\n",
       "    </tr>\n",
       "  </thead>\n",
       "  <tbody>\n",
       "    <tr>\n",
       "      <th>0</th>\n",
       "      <td>Female</td>\n",
       "      <td>90023.92</td>\n",
       "    </tr>\n",
       "    <tr>\n",
       "      <th>1</th>\n",
       "      <td>Male</td>\n",
       "      <td>91180.67</td>\n",
       "    </tr>\n",
       "    <tr>\n",
       "      <th>2</th>\n",
       "      <td>Unknown</td>\n",
       "      <td>91043.21</td>\n",
       "    </tr>\n",
       "  </tbody>\n",
       "</table>\n",
       "</div>"
      ],
      "text/plain": [
       "    Gender    Salary\n",
       "0   Female  90023.92\n",
       "1     Male  91180.67\n",
       "2  Unknown  91043.21"
      ]
     },
     "execution_count": 22,
     "metadata": {},
     "output_type": "execute_result"
    }
   ],
   "source": [
    "earning_sex = earning_sex.reset_index()\n",
    "earning_sex"
   ]
  },
  {
   "cell_type": "markdown",
   "metadata": {},
   "source": [
    "#### Deliverable 4: The staff earning the highest salary and from what department?"
   ]
  },
  {
   "cell_type": "code",
   "execution_count": 83,
   "metadata": {},
   "outputs": [
    {
     "name": "stdout",
     "output_type": "stream",
     "text": [
      "The staff earning the highest salary earned in the company is  \n",
      "     First Name     Team\n",
      "644  Katherine  Finance\n"
     ]
    }
   ],
   "source": [
    "print('The staff earning the highest salary earned in the company is ','\\n',df.loc[df['Salary'] == (df['Salary'].max()),['First Name','Team']])"
   ]
  },
  {
   "cell_type": "markdown",
   "metadata": {},
   "source": [
    "#### Deliverable 5: The sex distribution of employees."
   ]
  },
  {
   "cell_type": "code",
   "execution_count": 68,
   "metadata": {},
   "outputs": [
    {
     "data": {
      "text/plain": [
       "Female     431\n",
       "Male       424\n",
       "Unknown    145\n",
       "Name: Gender, dtype: int64"
      ]
     },
     "execution_count": 68,
     "metadata": {},
     "output_type": "execute_result"
    }
   ],
   "source": [
    "df['Gender'].value_counts()"
   ]
  },
  {
   "cell_type": "markdown",
   "metadata": {},
   "source": [
    "#### Deliverable 6: The oldest senior management staff."
   ]
  },
  {
   "cell_type": "code",
   "execution_count": 87,
   "metadata": {
    "scrolled": true
   },
   "outputs": [
    {
     "data": {
      "text/html": [
       "<div>\n",
       "<style scoped>\n",
       "    .dataframe tbody tr th:only-of-type {\n",
       "        vertical-align: middle;\n",
       "    }\n",
       "\n",
       "    .dataframe tbody tr th {\n",
       "        vertical-align: top;\n",
       "    }\n",
       "\n",
       "    .dataframe thead th {\n",
       "        text-align: right;\n",
       "    }\n",
       "</style>\n",
       "<table border=\"1\" class=\"dataframe\">\n",
       "  <thead>\n",
       "    <tr style=\"text-align: right;\">\n",
       "      <th></th>\n",
       "      <th>First Name</th>\n",
       "      <th>Gender</th>\n",
       "      <th>Start Date</th>\n",
       "      <th>Last Login Time</th>\n",
       "      <th>Salary</th>\n",
       "      <th>Bonus %</th>\n",
       "      <th>Senior Management</th>\n",
       "      <th>Team</th>\n",
       "      <th>Service_Length</th>\n",
       "    </tr>\n",
       "  </thead>\n",
       "  <tbody>\n",
       "    <tr>\n",
       "      <th>0</th>\n",
       "      <td>Douglas</td>\n",
       "      <td>Male</td>\n",
       "      <td>8/6/1993</td>\n",
       "      <td>12:42 PM</td>\n",
       "      <td>97308</td>\n",
       "      <td>6.945</td>\n",
       "      <td>True</td>\n",
       "      <td>Marketing</td>\n",
       "      <td>28</td>\n",
       "    </tr>\n",
       "    <tr>\n",
       "      <th>1</th>\n",
       "      <td>Thomas</td>\n",
       "      <td>Male</td>\n",
       "      <td>3/31/1996</td>\n",
       "      <td>6:53 AM</td>\n",
       "      <td>61933</td>\n",
       "      <td>4.170</td>\n",
       "      <td>True</td>\n",
       "      <td>Unknown</td>\n",
       "      <td>26</td>\n",
       "    </tr>\n",
       "    <tr>\n",
       "      <th>3</th>\n",
       "      <td>Jerry</td>\n",
       "      <td>Male</td>\n",
       "      <td>3/4/2005</td>\n",
       "      <td>1:00 PM</td>\n",
       "      <td>138705</td>\n",
       "      <td>9.340</td>\n",
       "      <td>True</td>\n",
       "      <td>Finance</td>\n",
       "      <td>17</td>\n",
       "    </tr>\n",
       "    <tr>\n",
       "      <th>4</th>\n",
       "      <td>Larry</td>\n",
       "      <td>Male</td>\n",
       "      <td>1/24/1998</td>\n",
       "      <td>4:47 PM</td>\n",
       "      <td>101004</td>\n",
       "      <td>1.389</td>\n",
       "      <td>True</td>\n",
       "      <td>Client Services</td>\n",
       "      <td>24</td>\n",
       "    </tr>\n",
       "    <tr>\n",
       "      <th>6</th>\n",
       "      <td>Ruby</td>\n",
       "      <td>Female</td>\n",
       "      <td>8/17/1987</td>\n",
       "      <td>4:20 PM</td>\n",
       "      <td>65476</td>\n",
       "      <td>10.012</td>\n",
       "      <td>True</td>\n",
       "      <td>Product</td>\n",
       "      <td>34</td>\n",
       "    </tr>\n",
       "  </tbody>\n",
       "</table>\n",
       "</div>"
      ],
      "text/plain": [
       "  First Name  Gender Start Date Last Login Time  Salary  Bonus %  \\\n",
       "0    Douglas    Male   8/6/1993        12:42 PM   97308    6.945   \n",
       "1     Thomas    Male  3/31/1996         6:53 AM   61933    4.170   \n",
       "3      Jerry    Male   3/4/2005         1:00 PM  138705    9.340   \n",
       "4      Larry    Male  1/24/1998         4:47 PM  101004    1.389   \n",
       "6       Ruby  Female  8/17/1987         4:20 PM   65476   10.012   \n",
       "\n",
       "  Senior Management             Team  Service_Length  \n",
       "0              True        Marketing              28  \n",
       "1              True          Unknown              26  \n",
       "3              True          Finance              17  \n",
       "4              True  Client Services              24  \n",
       "6              True          Product              34  "
      ]
     },
     "execution_count": 87,
     "metadata": {},
     "output_type": "execute_result"
    }
   ],
   "source": [
    "cadre = [True]\n",
    "df_seniorstaff = df.loc[df['Senior Management'].isin(cadre)]\n",
    "df_seniorstaff.head()"
   ]
  },
  {
   "cell_type": "code",
   "execution_count": 124,
   "metadata": {},
   "outputs": [
    {
     "data": {
      "text/plain": [
       "45         Roger\n",
       "82        Steven\n",
       "213       Evelyn\n",
       "601    Christine\n",
       "743       Steven\n",
       "954          Joe\n",
       "964        Bruce\n",
       "Name: First Name, dtype: object"
      ]
     },
     "execution_count": 124,
     "metadata": {},
     "output_type": "execute_result"
    }
   ],
   "source": [
    "df_seniorstaff.loc[df_seniorstaff['Service_Length']== df_seniorstaff['Service_Length'].max(), 'First Name'].iloc[0:10]\n"
   ]
  },
  {
   "cell_type": "markdown",
   "metadata": {},
   "source": [
    "Find outthe Max service length for Roger"
   ]
  },
  {
   "cell_type": "code",
   "execution_count": 123,
   "metadata": {
    "scrolled": true
   },
   "outputs": [
    {
     "data": {
      "text/plain": [
       "45     42\n",
       "202    39\n",
       "503     7\n",
       "544    12\n",
       "764    34\n",
       "Name: Service_Length, dtype: int64"
      ]
     },
     "execution_count": 123,
     "metadata": {},
     "output_type": "execute_result"
    }
   ],
   "source": [
    "df_seniorstaff.loc[df_seniorstaff['First Name'] == 'Roger', 'Service_Length'].iloc[0:10]"
   ]
  },
  {
   "cell_type": "code",
   "execution_count": 122,
   "metadata": {},
   "outputs": [
    {
     "data": {
      "text/plain": [
       "45         Roger\n",
       "82        Steven\n",
       "213       Evelyn\n",
       "601    Christine\n",
       "743       Steven\n",
       "954          Joe\n",
       "964        Bruce\n",
       "Name: First Name, dtype: object"
      ]
     },
     "execution_count": 122,
     "metadata": {},
     "output_type": "execute_result"
    }
   ],
   "source": [
    "df_seniorstaff.loc[df_seniorstaff['Service_Length'] == 42, 'First Name'].iloc[0:10]"
   ]
  },
  {
   "cell_type": "markdown",
   "metadata": {},
   "source": [
    "#### Deliverable 7: The highest earning senior management staff."
   ]
  },
  {
   "cell_type": "code",
   "execution_count": 121,
   "metadata": {},
   "outputs": [
    {
     "data": {
      "text/html": [
       "<div>\n",
       "<style scoped>\n",
       "    .dataframe tbody tr th:only-of-type {\n",
       "        vertical-align: middle;\n",
       "    }\n",
       "\n",
       "    .dataframe tbody tr th {\n",
       "        vertical-align: top;\n",
       "    }\n",
       "\n",
       "    .dataframe thead th {\n",
       "        text-align: right;\n",
       "    }\n",
       "</style>\n",
       "<table border=\"1\" class=\"dataframe\">\n",
       "  <thead>\n",
       "    <tr style=\"text-align: right;\">\n",
       "      <th></th>\n",
       "      <th>First Name</th>\n",
       "      <th>Team</th>\n",
       "    </tr>\n",
       "  </thead>\n",
       "  <tbody>\n",
       "    <tr>\n",
       "      <th>160</th>\n",
       "      <td>Kathy</td>\n",
       "      <td>Finance</td>\n",
       "    </tr>\n",
       "  </tbody>\n",
       "</table>\n",
       "</div>"
      ],
      "text/plain": [
       "    First Name     Team\n",
       "160      Kathy  Finance"
      ]
     },
     "execution_count": 121,
     "metadata": {},
     "output_type": "execute_result"
    }
   ],
   "source": [
    "df_seniorstaff.loc[df_seniorstaff['Salary']== df_seniorstaff['Salary'].max(), ['First Name','Team']].iloc[0:5]\n"
   ]
  },
  {
   "cell_type": "code",
   "execution_count": 118,
   "metadata": {
    "scrolled": true
   },
   "outputs": [
    {
     "data": {
      "text/html": [
       "<div>\n",
       "<style scoped>\n",
       "    .dataframe tbody tr th:only-of-type {\n",
       "        vertical-align: middle;\n",
       "    }\n",
       "\n",
       "    .dataframe tbody tr th {\n",
       "        vertical-align: top;\n",
       "    }\n",
       "\n",
       "    .dataframe thead th {\n",
       "        text-align: right;\n",
       "    }\n",
       "</style>\n",
       "<table border=\"1\" class=\"dataframe\">\n",
       "  <thead>\n",
       "    <tr style=\"text-align: right;\">\n",
       "      <th></th>\n",
       "      <th>First Name</th>\n",
       "      <th>Salary</th>\n",
       "      <th>Team</th>\n",
       "    </tr>\n",
       "  </thead>\n",
       "  <tbody>\n",
       "    <tr>\n",
       "      <th>47</th>\n",
       "      <td>Kathy</td>\n",
       "      <td>66820</td>\n",
       "      <td>Client Services</td>\n",
       "    </tr>\n",
       "    <tr>\n",
       "      <th>160</th>\n",
       "      <td>Kathy</td>\n",
       "      <td>149563</td>\n",
       "      <td>Finance</td>\n",
       "    </tr>\n",
       "    <tr>\n",
       "      <th>226</th>\n",
       "      <td>Kathy</td>\n",
       "      <td>50905</td>\n",
       "      <td>Finance</td>\n",
       "    </tr>\n",
       "    <tr>\n",
       "      <th>395</th>\n",
       "      <td>Kathy</td>\n",
       "      <td>93753</td>\n",
       "      <td>Sales</td>\n",
       "    </tr>\n",
       "    <tr>\n",
       "      <th>443</th>\n",
       "      <td>Kathy</td>\n",
       "      <td>86318</td>\n",
       "      <td>Sales</td>\n",
       "    </tr>\n",
       "  </tbody>\n",
       "</table>\n",
       "</div>"
      ],
      "text/plain": [
       "    First Name  Salary             Team\n",
       "47       Kathy   66820  Client Services\n",
       "160      Kathy  149563          Finance\n",
       "226      Kathy   50905          Finance\n",
       "395      Kathy   93753            Sales\n",
       "443      Kathy   86318            Sales"
      ]
     },
     "execution_count": 118,
     "metadata": {},
     "output_type": "execute_result"
    }
   ],
   "source": [
    "df_seniorstaff.loc[df_seniorstaff['First Name'] == 'Kathy', ['First Name','Salary','Team']].iloc[0:5]"
   ]
  },
  {
   "cell_type": "code",
   "execution_count": 120,
   "metadata": {},
   "outputs": [
    {
     "data": {
      "text/html": [
       "<div>\n",
       "<style scoped>\n",
       "    .dataframe tbody tr th:only-of-type {\n",
       "        vertical-align: middle;\n",
       "    }\n",
       "\n",
       "    .dataframe tbody tr th {\n",
       "        vertical-align: top;\n",
       "    }\n",
       "\n",
       "    .dataframe thead th {\n",
       "        text-align: right;\n",
       "    }\n",
       "</style>\n",
       "<table border=\"1\" class=\"dataframe\">\n",
       "  <thead>\n",
       "    <tr style=\"text-align: right;\">\n",
       "      <th></th>\n",
       "      <th>First Name</th>\n",
       "      <th>Team</th>\n",
       "      <th>Salary</th>\n",
       "      <th>Start Date</th>\n",
       "    </tr>\n",
       "  </thead>\n",
       "  <tbody>\n",
       "    <tr>\n",
       "      <th>160</th>\n",
       "      <td>Kathy</td>\n",
       "      <td>Finance</td>\n",
       "      <td>149563</td>\n",
       "      <td>3/18/2000</td>\n",
       "    </tr>\n",
       "  </tbody>\n",
       "</table>\n",
       "</div>"
      ],
      "text/plain": [
       "    First Name     Team  Salary Start Date\n",
       "160      Kathy  Finance  149563  3/18/2000"
      ]
     },
     "execution_count": 120,
     "metadata": {},
     "output_type": "execute_result"
    }
   ],
   "source": [
    "df_seniorstaff.loc[df_seniorstaff['Salary']== df_seniorstaff['Salary'].max(), ['First Name','Team','Salary','Start Date']].iloc[0:5]\n"
   ]
  },
  {
   "cell_type": "markdown",
   "metadata": {},
   "source": [
    "#### Deliverable 8: The highest bonus amount received by an employee."
   ]
  },
  {
   "cell_type": "code",
   "execution_count": 127,
   "metadata": {},
   "outputs": [
    {
     "name": "stdout",
     "output_type": "stream",
     "text": [
      "The highest bonus amount received by an employee is 19.94 %\n"
     ]
    }
   ],
   "source": [
    "print('The highest bonus amount received by an employee is', round(df['Bonus %'].max(),2),'%')"
   ]
  },
  {
   "cell_type": "markdown",
   "metadata": {},
   "source": [
    "#### Deliverable 9: The department whose staff earns the highest culmulative bonus."
   ]
  },
  {
   "cell_type": "code",
   "execution_count": 7,
   "metadata": {
    "scrolled": true
   },
   "outputs": [
    {
     "data": {
      "text/plain": [
       "Team\n",
       "Business Development    1067.81\n",
       "Client Services         1112.48\n",
       "Distribution             865.41\n",
       "Engineering              962.60\n",
       "Finance                 1039.06\n",
       "Human Resources          909.44\n",
       "Legal                    908.41\n",
       "Marketing               1014.64\n",
       "Product                  930.19\n",
       "Sales                    950.99\n",
       "Unknown                  446.53\n",
       "Name: Bonus %, dtype: float64"
      ]
     },
     "execution_count": 7,
     "metadata": {},
     "output_type": "execute_result"
    }
   ],
   "source": [
    "round(df.groupby(\"Team\")['Bonus %'].sum(),2)"
   ]
  },
  {
   "cell_type": "code",
   "execution_count": 8,
   "metadata": {},
   "outputs": [
    {
     "data": {
      "text/plain": [
       "1112.48"
      ]
     },
     "execution_count": 8,
     "metadata": {},
     "output_type": "execute_result"
    }
   ],
   "source": [
    "round(df.groupby(\"Team\")['Bonus %'].sum(),2).max()"
   ]
  },
  {
   "cell_type": "code",
   "execution_count": 155,
   "metadata": {},
   "outputs": [
    {
     "data": {
      "text/plain": [
       "9406387"
      ]
     },
     "execution_count": 155,
     "metadata": {},
     "output_type": "execute_result"
    }
   ],
   "source": [
    "round(df.groupby(\"Team\")['Salary'].sum(),2).max()"
   ]
  },
  {
   "cell_type": "markdown",
   "metadata": {},
   "source": [
    "The department whose staff earns the highest culmulative bonus 'Finance'."
   ]
  },
  {
   "cell_type": "markdown",
   "metadata": {},
   "source": [
    "#### Deliverable 10: The average salary based on cadre."
   ]
  },
  {
   "cell_type": "code",
   "execution_count": 146,
   "metadata": {},
   "outputs": [
    {
     "data": {
      "text/plain": [
       "Senior Management\n",
       "False      89638.26\n",
       "True       90935.16\n",
       "Unknown    95861.70\n",
       "Name: Salary, dtype: float64"
      ]
     },
     "execution_count": 146,
     "metadata": {},
     "output_type": "execute_result"
    }
   ],
   "source": [
    "round(df.groupby(\"Senior Management\")['Salary'].mean(),2)"
   ]
  },
  {
   "cell_type": "markdown",
   "metadata": {},
   "source": [
    "#### Deliverable 11: The average salary across department."
   ]
  },
  {
   "cell_type": "code",
   "execution_count": 147,
   "metadata": {
    "scrolled": false
   },
   "outputs": [
    {
     "data": {
      "text/plain": [
       "Team\n",
       "Business Development    91866.32\n",
       "Client Services         88224.42\n",
       "Distribution            88500.47\n",
       "Engineering             94269.20\n",
       "Finance                 92219.48\n",
       "Human Resources         90944.53\n",
       "Legal                   89303.61\n",
       "Marketing               90435.59\n",
       "Product                 88665.51\n",
       "Sales                   92173.44\n",
       "Unknown                 90763.14\n",
       "Name: Salary, dtype: float64"
      ]
     },
     "execution_count": 147,
     "metadata": {},
     "output_type": "execute_result"
    }
   ],
   "source": [
    "round(df.groupby(\"Team\")['Salary'].mean(),2)"
   ]
  },
  {
   "cell_type": "markdown",
   "metadata": {},
   "source": [
    "### Communicate/Share Insights\n",
    "\n",
    "Now, that we are done with our analysis and have derived various insights (as required) it is now time to create a report for Mr. Oliver.\n",
    "\n",
    "In creating a report, we can do so using different tools. "
   ]
  },
  {
   "cell_type": "markdown",
   "metadata": {},
   "source": [
    "Thanks for going through this work. For comment and contribution (including collaboration opportunities) reach me via [Twitter](https://twitter.com/xtian4zy) or on [Linkedin](https://www.linkedin.com/in/idemudiachristianuwa/)."
   ]
  },
  {
   "cell_type": "code",
   "execution_count": null,
   "metadata": {},
   "outputs": [],
   "source": [
    "df_y = df[(df['Course']== 'Computer Science') & (df['Remark'] == 'average')].count()\n",
    "print (df_y[0], 'computer students got avearge remark')"
   ]
  }
 ],
 "metadata": {
  "interpreter": {
   "hash": "c536b6d285c7bc8b344c6b60e77e72d5632380ee410af48285984064952925ae"
  },
  "kernelspec": {
   "display_name": "Python 3.9.12 ('base')",
   "language": "python",
   "name": "python3"
  },
  "language_info": {
   "codemirror_mode": {
    "name": "ipython",
    "version": 3
   },
   "file_extension": ".py",
   "mimetype": "text/x-python",
   "name": "python",
   "nbconvert_exporter": "python",
   "pygments_lexer": "ipython3",
   "version": "3.9.12"
  }
 },
 "nbformat": 4,
 "nbformat_minor": 4
}
